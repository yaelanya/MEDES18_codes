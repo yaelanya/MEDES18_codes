{
 "cells": [
  {
   "cell_type": "code",
   "execution_count": 2,
   "metadata": {},
   "outputs": [],
   "source": [
    "import numpy as np\n",
    "import pandas as pd\n",
    "from keras.models import Sequential\n",
    "from keras.layers.core import Dense, Activation, Dropout\n",
    "from keras.layers.recurrent import LSTM\n",
    "from keras.optimizers import Adam\n",
    "from keras.callbacks import EarlyStopping, ReduceLROnPlateau\n",
    "import matplotlib.pyplot as plt"
   ]
  },
  {
   "cell_type": "code",
   "execution_count": 3,
   "metadata": {},
   "outputs": [],
   "source": [
    "def min_max(x, axis=None):\n",
    "    min = x.min(axis=axis, keepdims=True)\n",
    "    max = x.max(axis=axis, keepdims=True)\n",
    "    result = (x-min)/(max-min)\n",
    "    return result\n",
    "\n",
    "def create_dataset(dataset, steps_of_history, steps_in_future):\n",
    "    X, Y = [], []\n",
    "    for i in range(0, (len(dataset)+1)-steps_of_history-steps_in_future):\n",
    "        X.append(dataset[i:i+steps_of_history])\n",
    "        Y.append(dataset[(i-1) + steps_of_history + steps_in_future])\n",
    "    X = np.reshape(np.array(X), [-1, steps_of_history, 1])\n",
    "    Y = np.reshape(np.array(Y), [-1, 1])\n",
    "    return X, Y\n",
    "\n",
    "def MAPE(y_true, y_pred):\n",
    "    non_zero_idxs = np.where(y_true!=0)[0]\n",
    "    y_true = y_true[non_zero_idxs]\n",
    "    y_pred = y_pred[non_zero_idxs]\n",
    "    return np.mean(np.abs((y_true - y_pred) / y_true))\n",
    "\n",
    "def direct_accuracy(y_true, y_prev_true, y_pred):\n",
    "    return np.mean(np.where((y_true - y_prev_true) * (y_pred - y_prev_true) >= 0, True, False))"
   ]
  },
  {
   "cell_type": "code",
   "execution_count": 4,
   "metadata": {},
   "outputs": [
    {
     "data": {
      "text/html": [
       "<div>\n",
       "<style scoped>\n",
       "    .dataframe tbody tr th:only-of-type {\n",
       "        vertical-align: middle;\n",
       "    }\n",
       "\n",
       "    .dataframe tbody tr th {\n",
       "        vertical-align: top;\n",
       "    }\n",
       "\n",
       "    .dataframe thead th {\n",
       "        text-align: right;\n",
       "    }\n",
       "</style>\n",
       "<table border=\"1\" class=\"dataframe\">\n",
       "  <thead>\n",
       "    <tr style=\"text-align: right;\">\n",
       "      <th></th>\n",
       "      <th>label</th>\n",
       "      <th>date</th>\n",
       "      <th>submit</th>\n",
       "    </tr>\n",
       "  </thead>\n",
       "  <tbody>\n",
       "    <tr>\n",
       "      <th>0</th>\n",
       "      <td>1</td>\n",
       "      <td>1960-01-31</td>\n",
       "      <td>0</td>\n",
       "    </tr>\n",
       "    <tr>\n",
       "      <th>1</th>\n",
       "      <td>1</td>\n",
       "      <td>1960-02-29</td>\n",
       "      <td>0</td>\n",
       "    </tr>\n",
       "    <tr>\n",
       "      <th>2</th>\n",
       "      <td>1</td>\n",
       "      <td>1960-03-31</td>\n",
       "      <td>0</td>\n",
       "    </tr>\n",
       "    <tr>\n",
       "      <th>3</th>\n",
       "      <td>1</td>\n",
       "      <td>1960-04-30</td>\n",
       "      <td>0</td>\n",
       "    </tr>\n",
       "    <tr>\n",
       "      <th>4</th>\n",
       "      <td>1</td>\n",
       "      <td>1960-05-31</td>\n",
       "      <td>0</td>\n",
       "    </tr>\n",
       "  </tbody>\n",
       "</table>\n",
       "</div>"
      ],
      "text/plain": [
       "   label       date  submit\n",
       "0      1 1960-01-31       0\n",
       "1      1 1960-02-29       0\n",
       "2      1 1960-03-31       0\n",
       "3      1 1960-04-30       0\n",
       "4      1 1960-05-31       0"
      ]
     },
     "execution_count": 4,
     "metadata": {},
     "output_type": "execute_result"
    }
   ],
   "source": [
    "data = pd.read_csv(\n",
    "    \"../data/application_count_from_1960_to_2015_for_LSTM.csv\", \n",
    "    dtype={\"label\": \"int\", \"date\": \"str\", \"count\": \"int\"}\n",
    ").rename(columns={\"count\": \"submit\"})\n",
    "data.date = pd.to_datetime(data.date)\n",
    "data.head()"
   ]
  },
  {
   "cell_type": "code",
   "execution_count": null,
   "metadata": {},
   "outputs": [],
   "source": [
    "# set parameters\n",
    "in_out_neurons = 1\n",
    "length_of_sequence = 12 # window size\n",
    "steps_in_future = 12 # forecast point (month)\n",
    "steps_of_history = 12 \n",
    "batch_size = 10\n",
    "\n",
    "reduce_lr = ReduceLROnPlateau(monitor='val_loss', factor=0.1, patience=3, min_lr=0.00001)\n",
    "early_stopping = EarlyStopping(monitor='val_loss', mode='auto', patience=10)"
   ]
  },
  {
   "cell_type": "code",
   "execution_count": null,
   "metadata": {},
   "outputs": [],
   "source": [
    "predict_list = []\n",
    "real_list = []\n",
    "prev_real_list = []\n",
    "for label, cluster_data in data.groupby(\"label\"):\n",
    "    cluster_data = cluster_data.loc[(cluster_data.date >= '1985-01-01') & (cluster_data.date < '2007-01-01')]\n",
    "    cluster_data.submit = min_max(cluster_data.submit.values)\n",
    "    train = cluster_data.loc[(cluster_data.date >= '1985-01-01') & (cluster_data.date < '2006-01-01')]\n",
    "    test = cluster_data.loc[(cluster_data.date >= '2004-02-01') & (cluster_data.date < '2007-01-01')]\n",
    "\n",
    "    train_X, train_y = create_dataset(train.submit.values, steps_of_history, steps_in_future)\n",
    "    test_X, test_y = create_dataset(test.submit.values, steps_of_history, steps_in_future)\n",
    "    \n",
    "    # build LSTM\n",
    "    model = Sequential()\n",
    "    model.add(LSTM(128, activation='relu', input_shape=(length_of_sequence, in_out_neurons)))\n",
    "    model.add(Dropout(0.2))\n",
    "    model.add(Dense(in_out_neurons, activation='linear'))\n",
    "    model.compile(loss='mean_squared_error', optimizer='adam')\n",
    "    model.fit(train_X, train_y,\n",
    "                batch_size=batch_size,\n",
    "                epochs=100,\n",
    "                validation_split=0.3,\n",
    "                callbacks=[reduce_lr,early_stopping],\n",
    "                verbose=0\n",
    "             )\n",
    "    \n",
    "    predict = model.predict(test_X)[-1]\n",
    "    real = test_y[-1]\n",
    "    prev_real = train_y[-1]\n",
    "    \n",
    "    predict_list.append(predict)\n",
    "    real_list.append(real)\n",
    "    prev_real_list.append(prev_real)\n",
    "    \n",
    "real_list = np.array(real_list)\n",
    "prev_real_list = np.array(prev_real_list)\n",
    "predict_list = np.array(predict_list)\n",
    "\n",
    "predict_list = np.reshape(predict_list, (len(predict_list)))\n",
    "real_list = np.reshape(real_list, (len(real_list)))\n",
    "prev_real_list = np.reshape(prev_real_list, (len(prev_real_list)))"
   ]
  },
  {
   "cell_type": "code",
   "execution_count": null,
   "metadata": {},
   "outputs": [],
   "source": [
    "print(\"MAPE: \", MAPE(real_list, predict_list))\n",
    "print(\"Direct accuracy: \", direct_accuracy(real_list, prev_real_list, predict_list))"
   ]
  },
  {
   "cell_type": "code",
   "execution_count": null,
   "metadata": {},
   "outputs": [],
   "source": []
  }
 ],
 "metadata": {
  "kernelspec": {
   "display_name": "Python 3",
   "language": "python",
   "name": "python3"
  },
  "language_info": {
   "codemirror_mode": {
    "name": "ipython",
    "version": 3
   },
   "file_extension": ".py",
   "mimetype": "text/x-python",
   "name": "python",
   "nbconvert_exporter": "python",
   "pygments_lexer": "ipython3",
   "version": "3.6.1"
  }
 },
 "nbformat": 4,
 "nbformat_minor": 2
}
