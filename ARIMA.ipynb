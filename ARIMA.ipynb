{
 "cells": [
  {
   "cell_type": "code",
   "execution_count": null,
   "metadata": {},
   "outputs": [],
   "source": [
    "library('forecast')\n",
    "library('tseries')\n",
    "library('CADFtest')"
   ]
  },
  {
   "cell_type": "code",
   "execution_count": 4,
   "metadata": {},
   "outputs": [],
   "source": [
    "# metrics\n",
    "MAPE = function(data){\n",
    "    data = data[data$real != 0,]\n",
    "    return (mean(abs((data$predict - data$real) / data$real)))\n",
    "}\n",
    "\n",
    "direction_accuracy = function(data){\n",
    "    return (mean(ifelse(((data$real - data$prev_real) * (data$predict - data$prev_real)) >= 0, T, F)))\n",
    "}"
   ]
  },
  {
   "cell_type": "code",
   "execution_count": 3,
   "metadata": {},
   "outputs": [],
   "source": [
    "# load data\n",
    "data = read.csv(\"../data/application_count_from_1960_to_2015_for_LSTM.csv\")\n",
    "data$date = as.Date(data$date , \"%Y-%m-%d\")\n",
    "train = data[(data$date >= '1985-01-01') & (data$date < '2006-01-01'),]"
   ]
  },
  {
   "cell_type": "code",
   "execution_count": 12,
   "metadata": {},
   "outputs": [
    {
     "data": {
      "text/html": [
       "<table>\n",
       "<thead><tr><th></th><th scope=col>label</th><th scope=col>date</th><th scope=col>count</th></tr></thead>\n",
       "<tbody>\n",
       "\t<tr><th scope=row>301</th><td>1         </td><td>1985-01-31</td><td>0         </td></tr>\n",
       "\t<tr><th scope=row>302</th><td>1         </td><td>1985-02-28</td><td>0         </td></tr>\n",
       "\t<tr><th scope=row>303</th><td>1         </td><td>1985-03-31</td><td>0         </td></tr>\n",
       "\t<tr><th scope=row>304</th><td>1         </td><td>1985-04-30</td><td>0         </td></tr>\n",
       "\t<tr><th scope=row>305</th><td>1         </td><td>1985-05-31</td><td>0         </td></tr>\n",
       "\t<tr><th scope=row>306</th><td>1         </td><td>1985-06-30</td><td>0         </td></tr>\n",
       "</tbody>\n",
       "</table>\n"
      ],
      "text/latex": [
       "\\begin{tabular}{r|lll}\n",
       "  & label & date & count\\\\\n",
       "\\hline\n",
       "\t301 & 1          & 1985-01-31 & 0         \\\\\n",
       "\t302 & 1          & 1985-02-28 & 0         \\\\\n",
       "\t303 & 1          & 1985-03-31 & 0         \\\\\n",
       "\t304 & 1          & 1985-04-30 & 0         \\\\\n",
       "\t305 & 1          & 1985-05-31 & 0         \\\\\n",
       "\t306 & 1          & 1985-06-30 & 0         \\\\\n",
       "\\end{tabular}\n"
      ],
      "text/markdown": [
       "\n",
       "| <!--/--> | label | date | count | \n",
       "|---|---|---|---|---|---|\n",
       "| 301 | 1          | 1985-01-31 | 0          | \n",
       "| 302 | 1          | 1985-02-28 | 0          | \n",
       "| 303 | 1          | 1985-03-31 | 0          | \n",
       "| 304 | 1          | 1985-04-30 | 0          | \n",
       "| 305 | 1          | 1985-05-31 | 0          | \n",
       "| 306 | 1          | 1985-06-30 | 0          | \n",
       "\n",
       "\n"
      ],
      "text/plain": [
       "    label date       count\n",
       "301 1     1985-01-31 0    \n",
       "302 1     1985-02-28 0    \n",
       "303 1     1985-03-31 0    \n",
       "304 1     1985-04-30 0    \n",
       "305 1     1985-05-31 0    \n",
       "306 1     1985-06-30 0    "
      ]
     },
     "metadata": {},
     "output_type": "display_data"
    }
   ],
   "source": [
    "head(train)"
   ]
  },
  {
   "cell_type": "code",
   "execution_count": null,
   "metadata": {},
   "outputs": [],
   "source": [
    "# predect\n",
    "\n",
    "predicts = c()\n",
    "\n",
    "h = 12 # forecast point (month)\n",
    "for (cluster in split(train, train$label)){\n",
    "    label = cluster$label[1]\n",
    "          \n",
    "    model = auto.arima(\n",
    "        cluster$count,\n",
    "        ic=\"aic\",\n",
    "        trace=T,\n",
    "        stepwise=T,\n",
    "        approximation=F,\n",
    "        allowdrift=F,\n",
    "        start.p=0,\n",
    "        start.q=0,\n",
    "        start.P=0,\n",
    "        start.Q=0,\n",
    "    )\n",
    "\n",
    "    pred_ts = forecast(model, h = h)\n",
    "    \n",
    "    if (h == 3){\n",
    "        real = data[(data$date >= '2006-01-01') & (data$date < '2006-04-01') & (data$label == label),]$count\n",
    "        prev_real = data[(data$date >= '2005-10-01') & (data$date < '2006-01-01') & (data$label == label),]$count\n",
    "    }\n",
    "    else if (h == 12){\n",
    "        real = data[(data$date >= '2006-01-01') & (data$date < '2007-01-01') & (data$label == label),]$count\n",
    "        prev_real = data[(data$date >= '2005-10-01') & (data$date < '2006-01-01') & (data$label == label),]$count\n",
    "    }\n",
    "    predicts = rbind(\n",
    "        predicts,\n",
    "        c(label=label, predict=rev(pred_ts$mean)[1], real=rev(real)[1], prev_real=rev(prev_real)[1])\n",
    "    )\n",
    "\n",
    "    plot(\n",
    "        pred_ts,\n",
    "        shadecols=c(\"yellow\", \"orange\"),\n",
    "        fcol=1,\n",
    "        xlim=c(220, 300),\n",
    "        lwd=2\n",
    "    )\n",
    "    tsdiag(model)\n",
    "}"
   ]
  },
  {
   "cell_type": "code",
   "execution_count": 7,
   "metadata": {},
   "outputs": [],
   "source": [
    "# make dataframe of predicted values\n",
    "predicts = as.data.frame(predicts)"
   ]
  },
  {
   "cell_type": "code",
   "execution_count": 8,
   "metadata": {},
   "outputs": [
    {
     "name": "stdout",
     "output_type": "stream",
     "text": [
      "[1] \"MAPE: 0.715466299776888\"\n",
      "[1] \"Direction Accuracy: 0.82051282051282\"\n"
     ]
    }
   ],
   "source": [
    "print(paste(\"MAPE:\", MAPE(predicts)))\n",
    "print(paste(\"Direction Accuracy:\", direction_accuracy(predicts)))"
   ]
  }
 ],
 "metadata": {
  "kernelspec": {
   "display_name": "R",
   "language": "R",
   "name": "ir"
  },
  "language_info": {
   "codemirror_mode": "r",
   "file_extension": ".r",
   "mimetype": "text/x-r-source",
   "name": "R",
   "pygments_lexer": "r",
   "version": "3.4.3"
  }
 },
 "nbformat": 4,
 "nbformat_minor": 2
}
