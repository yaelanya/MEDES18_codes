{
 "cells": [
  {
   "cell_type": "code",
   "execution_count": 1,
   "metadata": {},
   "outputs": [],
   "source": [
    "source(\"./hawkes_learn.R\")"
   ]
  },
  {
   "cell_type": "code",
   "execution_count": 6,
   "metadata": {},
   "outputs": [
    {
     "data": {
      "text/html": [
       "<table>\n",
       "<thead><tr><th></th><th scope=col>label</th><th scope=col>a_month</th><th scope=col>s_month</th><th scope=col>r_month</th></tr></thead>\n",
       "<tbody>\n",
       "\t<tr><th scope=row>6</th><td>1    </td><td>312.0</td><td>394  </td><td>423  </td></tr>\n",
       "\t<tr><th scope=row>7</th><td>1    </td><td>320.0</td><td>327  </td><td> NA  </td></tr>\n",
       "\t<tr><th scope=row>8</th><td>1    </td><td>320.5</td><td> NA  </td><td> NA  </td></tr>\n",
       "\t<tr><th scope=row>9</th><td>1    </td><td>329.0</td><td>355  </td><td>421  </td></tr>\n",
       "\t<tr><th scope=row>10</th><td>1    </td><td>335.0</td><td>392  </td><td>436  </td></tr>\n",
       "\t<tr><th scope=row>11</th><td>1    </td><td>343.0</td><td>343  </td><td>400  </td></tr>\n",
       "</tbody>\n",
       "</table>\n"
      ],
      "text/latex": [
       "\\begin{tabular}{r|llll}\n",
       "  & label & a\\_month & s\\_month & r\\_month\\\\\n",
       "\\hline\n",
       "\t6 & 1     & 312.0 & 394   & 423  \\\\\n",
       "\t7 & 1     & 320.0 & 327   &  NA  \\\\\n",
       "\t8 & 1     & 320.5 &  NA   &  NA  \\\\\n",
       "\t9 & 1     & 329.0 & 355   & 421  \\\\\n",
       "\t10 & 1     & 335.0 & 392   & 436  \\\\\n",
       "\t11 & 1     & 343.0 & 343   & 400  \\\\\n",
       "\\end{tabular}\n"
      ],
      "text/markdown": [
       "\n",
       "| <!--/--> | label | a_month | s_month | r_month | \n",
       "|---|---|---|---|---|---|\n",
       "| 6 | 1     | 312.0 | 394   | 423   | \n",
       "| 7 | 1     | 320.0 | 327   |  NA   | \n",
       "| 8 | 1     | 320.5 |  NA   |  NA   | \n",
       "| 9 | 1     | 329.0 | 355   | 421   | \n",
       "| 10 | 1     | 335.0 | 392   | 436   | \n",
       "| 11 | 1     | 343.0 | 343   | 400   | \n",
       "\n",
       "\n"
      ],
      "text/plain": [
       "   label a_month s_month r_month\n",
       "6  1     312.0   394     423    \n",
       "7  1     320.0   327      NA    \n",
       "8  1     320.5    NA      NA    \n",
       "9  1     329.0   355     421    \n",
       "10 1     335.0   392     436    \n",
       "11 1     343.0   343     400    "
      ]
     },
     "metadata": {},
     "output_type": "display_data"
    }
   ],
   "source": [
    "# load cluster data of node2vec\n",
    "pachinko_n2v_data = read.csv(\"../data/pachinko_cluster_event_series_by_node2vec_since1960_until2015.csv\")\n",
    "\n",
    "# training data: using 1985-2005\n",
    "train = pachinko_n2v_data[(pachinko_n2v_data$a_month >= 300) & (pachinko_n2v_data$a_month < 552),]\n",
    "head(train)"
   ]
  },
  {
   "cell_type": "markdown",
   "metadata": {},
   "source": [
    "submitted patent in the Nth month since Jan. 1960\n",
    "- a_month: applications\n",
    "- s_month: examination requests\n",
    "- r_month: registrations"
   ]
  },
  {
   "cell_type": "code",
   "execution_count": 7,
   "metadata": {},
   "outputs": [
    {
     "name": "stdout",
     "output_type": "stream",
     "text": [
      "[1] \"cluster 1 : 0.304707874264807\"\n",
      "[1] \"cluster 2 : 0.536027154216754\"\n",
      "[1] \"cluster 3 : 0.306375144452886\"\n",
      "[1] \"cluster 4 : 0.440858658890647\"\n",
      "[1] \"cluster 5 : 0.719412754223811\"\n",
      "[1] \"cluster 6 : 0.548449486450338\"\n",
      "[1] \"cluster 7 : 0.442962140092277\"\n",
      "[1] \"cluster 8 : 0.462473416207104\"\n",
      "[1] \"cluster 9 : 0.342946467229467\"\n",
      "[1] \"cluster 10 : 0.129739548454836\"\n",
      "[1] \"cluster 11 : 0.17119944037443\"\n",
      "[1] \"cluster 12 : 0.237443177296882\"\n",
      "[1] \"cluster 13 : 0.280387775402232\"\n",
      "[1] \"cluster 14 : 0.300939180159439\"\n",
      "[1] \"cluster 15 : 0.250453320102963\"\n",
      "[1] \"cluster 16 : 0.150776473214592\"\n",
      "[1] \"cluster 17 : 0.34142624229473\"\n",
      "[1] \"cluster 18 : 0.463198118843138\"\n",
      "[1] \"cluster 19 : 0.350703768596318\"\n",
      "[1] \"cluster 20 : 0.0859459262747659\"\n",
      "[1] \"cluster 21 : 0.227153360981063\"\n",
      "[1] \"cluster 22 : 0.659814895130694\"\n",
      "[1] \"cluster 23 : 0.937618536161864\"\n",
      "[1] \"cluster 24 : 0.0584161773398941\"\n",
      "[1] \"cluster 25 : 0.572660231788177\"\n",
      "[1] \"cluster 26 : 0.578039856752753\"\n",
      "[1] \"cluster 27 : 0.51805383036276\"\n",
      "[1] \"cluster 28 : 0.445973487051504\"\n",
      "[1] \"cluster 29 : 0.245846141723664\"\n",
      "[1] \"cluster 30 : 0.760468034326266\"\n",
      "[1] \"cluster 31 : 0.583540929695147\"\n",
      "[1] \"cluster 32 : 0.365846299539953\"\n",
      "[1] \"cluster 33 : 0.337139403799739\"\n",
      "[1] \"cluster 34 : 0.120864667583987\"\n",
      "[1] \"cluster 35 : 0.0861111176712726\"\n",
      "[1] \"cluster 36 : 0.387190868800417\"\n",
      "[1] \"cluster 37 : 0.487273822568341\"\n",
      "[1] \"cluster 38 : 0.659378020858803\"\n",
      "[1] \"cluster 39 : 0.249541249282046\"\n"
     ]
    }
   ],
   "source": [
    "# forecast after 1 year\n",
    "predicts = c()\n",
    "for (cluster in split(train, train$label)){\n",
    "    label = cluster$label[1]\n",
    "    result = forecast(cluster$a_month, end_t = 552, h = 12)\n",
    "    print(paste(\"cluster\", label, \":\", result$forecast))\n",
    "    predicts = rbind(predicts, result)\n",
    "}"
   ]
  },
  {
   "cell_type": "code",
   "execution_count": null,
   "metadata": {},
   "outputs": [],
   "source": [
    "#forecast after a quarter\n",
    "predicts = c()\n",
    "for (cluster in split(train, train$label)){\n",
    "    label = cluster$label[1]\n",
    "    result = forecast(cluster$a_month, end_t = 552, h = 3)\n",
    "    print(paste(\"cluster\", label, \":\", result$forecast))\n",
    "    predicts = rbind(predicts, result)\n",
    "}"
   ]
  }
 ],
 "metadata": {
  "kernelspec": {
   "display_name": "R",
   "language": "R",
   "name": "ir"
  },
  "language_info": {
   "codemirror_mode": "r",
   "file_extension": ".r",
   "mimetype": "text/x-r-source",
   "name": "R",
   "pygments_lexer": "r",
   "version": "3.4.3"
  }
 },
 "nbformat": 4,
 "nbformat_minor": 2
}
